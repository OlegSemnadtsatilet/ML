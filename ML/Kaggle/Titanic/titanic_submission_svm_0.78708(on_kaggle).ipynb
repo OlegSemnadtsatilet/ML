{
 "cells": [
  {
   "cell_type": "code",
   "execution_count": null,
   "id": "41c44aa4",
   "metadata": {},
   "outputs": [],
   "source": [
    "import pandas as pd\n",
    "from sklearn.model_selection import KFold, cross_val_score, GridSearchCV\n",
    "from sklearn.preprocessing import LabelEncoder, StandardScaler\n",
    "from sklearn import svm\n",
    "import numpy\n",
    "import math\n",
    "from matplotlib import pyplot"
   ]
  },
  {
   "cell_type": "code",
   "execution_count": null,
   "id": "9259e351",
   "metadata": {},
   "outputs": [],
   "source": [
    "pd.set_option('display.max_rows', None)\n",
    "data_train = pd.read_csv(\"C:/Users/Хеллоу/Desktop/Программирование/kaggle/titanic/train.csv\", index_col=0)\n",
    "\n",
    "society_status_train = {}\n",
    "society_status_test = {}\n",
    "\n",
    "def society_status_age(status, data, society_status_data): #добавить в функцию переменную словаря (для train и test разные)\n",
    "    median_age = []\n",
    "    median_age_plot = []\n",
    "    for i in range(len(data[\"Name\"])):\n",
    "        if status in data.iloc[i, 2]:\n",
    "            if data.iloc[i, 4] >= 0:\n",
    "                median_age.append(int(data.iloc[i, 4]))\n",
    "                median_age_plot.append(data.iloc[i, 4])\n",
    "    \n",
    "    median_age_plot = sorted(median_age_plot)\n",
    "\n",
    "    plt = pyplot\n",
    "    plt.figure(figsize=(15, 6))\n",
    "    plt.plot(median_age_plot)\n",
    "    plt.title(\"График возраста по статусу \" + status, fontsize=20)\n",
    "    plt.xlabel(\"Количество человек\", fontsize=15)\n",
    "    plt.ylabel(\"Возраст\", fontsize=15)\n",
    "    \n",
    "    median_age = int(median_age_plot[math.ceil(len(median_age_plot) / 2)])\n",
    "    society_status_data[(status + \" median age\")] = median_age\n",
    "    \n",
    "def filling(data, society_status_data):\n",
    "    for status in (\"Miss\", \"Mrs\", \"Mr\"):\n",
    "        for i in range(len(data[\"Name\"])):\n",
    "            if status in data.iloc[i, 2]:\n",
    "                if math.isnan(data.iloc[i, 4]) == True:\n",
    "                    data.iloc[i, 4] = society_status_data[(status + \" median age\")]\n",
    "              \n",
    "for status in (\"Miss\", \"Mrs\", \"Mr\"):                    \n",
    "    society_status_age(status, data_train, society_status_train)\n",
    "\n",
    "print(society_status_train)\n",
    "\n",
    "filling(data_train, society_status_train)\n",
    "data_train[\"Embarked\"] = data_train[\"Embarked\"].fillna(\"S\") \n",
    "data_train = data_train.fillna(data_train.mean())   \n",
    "\n",
    "print(data_train.head())\n",
    "print(data_train.count())"
   ]
  },
  {
   "cell_type": "code",
   "execution_count": null,
   "id": "ea9a9a44",
   "metadata": {},
   "outputs": [],
   "source": [
    "label_enc = LabelEncoder()\n",
    "data_train[\"Sex\"] = label_enc.fit_transform(data_train[\"Sex\"])\n",
    "data_train[\"Embarked\"] = label_enc.fit_transform(data_train[\"Embarked\"])\n",
    "\n",
    "print(data_train.head())\n",
    "\n",
    "y_train = data_train[\"Survived\"]\n",
    "x_train = data_train[[\"Pclass\", \"Sex\", \"Age\", \"Parch\", \"SibSp\", \"Embarked\"]]\n",
    "\n",
    "print(x_train.head())\n",
    "\n",
    "SC = StandardScaler()\n",
    "x_train = SC.fit_transform(x_train)\n",
    "y_train = y_train.values\n",
    "#y_train = y_train.reshape(-1, 1)\n",
    "\n",
    "print(x_train.shape)\n",
    "print(y_train.shape)"
   ]
  },
  {
   "cell_type": "code",
   "execution_count": null,
   "id": "fca77a9d",
   "metadata": {},
   "outputs": [],
   "source": [
    "grid_parameters = {\n",
    "\"C\": [100000],\n",
    "\"kernel\": [\"poly\"]\n",
    "}\n",
    "svc = svm.SVC(C=100000, kernel='poly', random_state=241)\n",
    "fold = KFold(n_splits=5, shuffle=True, random_state=241)\n",
    "#clf = GridSearchCV(svc, grid_parameters, scoring='accuracy', cv=fold, n_jobs=-1, verbose=1)\n",
    "svc.fit(x_train, y_train)"
   ]
  },
  {
   "cell_type": "code",
   "execution_count": null,
   "id": "05827303",
   "metadata": {},
   "outputs": [],
   "source": [
    "svc.best_params_"
   ]
  },
  {
   "cell_type": "code",
   "execution_count": null,
   "id": "892ead7c",
   "metadata": {},
   "outputs": [],
   "source": [
    "graph = pyplot\n",
    "graph.figure(figsize=(15,6))\n",
    "graph.plot(scores.keys(), scores.values())"
   ]
  },
  {
   "cell_type": "code",
   "execution_count": null,
   "id": "5f353874",
   "metadata": {},
   "outputs": [],
   "source": [
    "data_test = pd.read_csv(\"C:/Users/Хеллоу/Desktop/Программирование/kaggle/titanic/test.csv\")\n",
    "\n",
    "# Заполнение пропусков в столбце \"Age\"\n",
    "for status in (\"Miss\", \"Mrs\", \"Mr\"):                    \n",
    "    society_status_age(status, data_test, society_status_test)\n",
    "\n",
    "print(society_status_test)\n",
    "\n",
    "filling(data_test, society_status_test)\n",
    "data_test[\"Embarked\"] = data_test[\"Embarked\"].fillna(\"S\")\n",
    "data_test = data_test.fillna(data_test.mean())   \n",
    "\n",
    "print(data_test.count())"
   ]
  },
  {
   "cell_type": "code",
   "execution_count": null,
   "id": "72d92e04",
   "metadata": {},
   "outputs": [],
   "source": [
    "label_enc = LabelEncoder()\n",
    "data_test[\"Sex\"] = label_enc.fit_transform(data_test[\"Sex\"])\n",
    "data_test[\"Embarked\"] = label_enc.fit_transform(data_test[\"Embarked\"])\n",
    "\n",
    "print(data_test)\n",
    "\n",
    "x_test = data_test[[\"Pclass\", \"Sex\", \"Age\", \"Parch\", \"SibSp\", \"Embarked\"]]\n",
    "\n",
    "print(x_test)\n",
    "\n",
    "SC = StandardScaler()\n",
    "x_test = SC.fit_transform(x_test)\n",
    "\n",
    "print(x_test.shape)"
   ]
  },
  {
   "cell_type": "code",
   "execution_count": null,
   "id": "9a6cfc16",
   "metadata": {},
   "outputs": [],
   "source": [
    "prediction_test = pd.DataFrame()\n",
    "prediction_test[\"Survived\"] = svc.predict(x_test)\n",
    "\n",
    "print(prediction_test[\"Survived\"])"
   ]
  },
  {
   "cell_type": "code",
   "execution_count": null,
   "id": "170de3b5",
   "metadata": {},
   "outputs": [],
   "source": [
    "my_submit = pd.DataFrame()\n",
    "\n",
    "print(my_submit)\n",
    "\n",
    "data_test[\"PassengerId\"]\n",
    "my_submit = pd.concat([data_test[\"PassengerId\"], prediction_test[\"Survived\"]], axis=1)\n",
    "\n",
    "print(my_submit)\n",
    "\n",
    "my_submit.to_csv(\"C:/Users/Хеллоу/Desktop/Программирование/kaggle/titanic/my_submit_svm_new1.csv\", index=False)"
   ]
  }
 ],
 "metadata": {
  "kernelspec": {
   "display_name": "Python 3",
   "language": "python",
   "name": "python3"
  },
  "language_info": {
   "codemirror_mode": {
    "name": "ipython",
    "version": 3
   },
   "file_extension": ".py",
   "mimetype": "text/x-python",
   "name": "python",
   "nbconvert_exporter": "python",
   "pygments_lexer": "ipython3",
   "version": "3.8.8"
  }
 },
 "nbformat": 4,
 "nbformat_minor": 5
}
