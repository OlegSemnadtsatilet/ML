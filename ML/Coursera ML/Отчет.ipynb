{
 "cells": [
  {
   "cell_type": "code",
   "execution_count": 1,
   "id": "8e4b31fd",
   "metadata": {},
   "outputs": [],
   "source": [
    "# Импорт библиотек\n",
    "import pandas as pd\n",
    "import datetime\n",
    "import numpy as np\n",
    "\n",
    "from sklearn.linear_model import LogisticRegression as LogReg\n",
    "from sklearn.preprocessing import StandardScaler\n",
    "from sklearn.model_selection import KFold, cross_val_score\n",
    "from sklearn.ensemble import GradientBoostingClassifier as GBC\n",
    "\n",
    "import numpy as np\n",
    "from matplotlib import pyplot as plt"
   ]
  },
  {
   "cell_type": "markdown",
   "id": "284b0186",
   "metadata": {},
   "source": [
    "# Подход 1. Градиентный бустинг \"в лоб\""
   ]
  },
  {
   "cell_type": "markdown",
   "id": "e3d74e68",
   "metadata": {},
   "source": [
    "## 1. Считайте таблицу с признаками из файла features.csv с помощью кода, приведенного выше. Удалите признаки, связанные с итогами матча (они помечены в описании данных как отсутствующие в тестовой выборке)."
   ]
  },
  {
   "cell_type": "code",
   "execution_count": 3,
   "id": "bf9a708b",
   "metadata": {},
   "outputs": [
    {
     "name": "stdout",
     "output_type": "stream",
     "text": [
      "Признаки, связанные с итогами матча: \n",
      "\n",
      "duration\n",
      "tower_status_radiant\n",
      "tower_status_dire\n",
      "barracks_status_radiant\n",
      "barracks_status_dire\n"
     ]
    }
   ],
   "source": [
    "# Чтение файла с обучающей выборкой\n",
    "f_train = pd.read_csv(\"C:/Users/Хеллоу/Desktop/Финальное задание/features/features.csv\") # Таблица с тренировочными данными\n",
    "# Чтение файла с тестовой выборкой\n",
    "f_test = pd.read_csv(\"C:/Users/Хеллоу/Desktop/Финальное задание/features_test/features_test.csv\") # Таблица с тестовыми данными\n",
    "\n",
    "x_test = f_test.drop(columns=[\"start_time\"], axis=1) # Матрица признаков тестовой выборки с исключенным столбцом времени начала игр\n",
    "y_train = f_train[\"radiant_win\"] # Матрица объектов результатов игры для обучающей выборки\n",
    "x_train = f_train.drop(columns=[\"radiant_win\", \"start_time\"], axis=1) # Матрица признаков с исключенными столбцами результатов игр и временем начала игр\n",
    "\n",
    "print(\"Признаки, связанные с итогами матча:\", \"\\n\")\n",
    "\n",
    "# Исключение столбцов, отсутствующих в тестовой выборке из обучающей\n",
    "for i in x_train.columns:\n",
    "  if i not in x_test:\n",
    "    print(i)\n",
    "    x_train = x_train.drop([i], axis=1)"
   ]
  },
  {
   "cell_type": "markdown",
   "id": "6e56b55a",
   "metadata": {},
   "source": [
    "## 2. Проверьте выборку на наличие пропусков с помощью функции count(), которая для каждого столбца показывает число заполненных значений. Много ли пропусков в данных? Запишите названия признаков, имеющих пропуски, и попробуйте для любых двух из них дать обоснование, почему их значения могут быть пропущены. "
   ]
  },
  {
   "cell_type": "code",
   "execution_count": 4,
   "id": "6d52b4b8",
   "metadata": {},
   "outputs": [
    {
     "name": "stdout",
     "output_type": "stream",
     "text": [
      "Признаки с пропущенными значениями: \n",
      "\n"
     ]
    },
    {
     "data": {
      "text/plain": [
       "first_blood_time               77677\n",
       "first_blood_team               77677\n",
       "first_blood_player1            77677\n",
       "first_blood_player2            53243\n",
       "radiant_bottle_time            81539\n",
       "radiant_courier_time           96538\n",
       "radiant_flying_courier_time    69751\n",
       "radiant_first_ward_time        95394\n",
       "dire_bottle_time               81087\n",
       "dire_courier_time              96554\n",
       "dire_flying_courier_time       71132\n",
       "dire_first_ward_time           95404\n",
       "dtype: int64"
      ]
     },
     "execution_count": 4,
     "metadata": {},
     "output_type": "execute_result"
    }
   ],
   "source": [
    "# Поиск и вывод признаков со значениями NaN:\n",
    "count_0 = x_train.count()\n",
    "print(\"Признаки с пропущенными значениями:\", \"\\n\")\n",
    "count_0[count_0 < len(x_train)]"
   ]
  },
  {
   "cell_type": "markdown",
   "id": "7e79c99e",
   "metadata": {},
   "source": [
    "   В признаке \"first_blood_time\" пропущены значения в том случае, если в первые 5 минут игры не было совершено убийство одного игрока другим.\n",
    "   \n",
    "   В признаке \"radiant_first_ward_time\" пропущены значения в том случае, если команда \"radiant\" не поставила наблюдателя в первые 5 минут игры."
   ]
  },
  {
   "cell_type": "markdown",
   "id": "76fa18fd",
   "metadata": {},
   "source": [
    "## 3. Замените пропуски на нули с помощью функции fillna(). На самом деле этот способ является предпочтительным для логистической регрессии, поскольку он позволит пропущенному значению не вносить никакого вклада в предсказание. Для деревьев часто лучшим вариантом оказывается замена пропуска на очень большое или очень маленькое значение — в этом случае при построении разбиения вершины можно будет отправить объекты с пропусками в отдельную ветвь дерева. Также есть и другие подходы — например, замена пропуска на среднее значение признака. Мы не требуем этого в задании, но при желании попробуйте разные подходы к обработке пропусков и сравните их между собой. "
   ]
  },
  {
   "cell_type": "code",
   "execution_count": 5,
   "id": "d51911f6",
   "metadata": {},
   "outputs": [],
   "source": [
    "# Заполнение пропусков тренировочной выборки средними значениями\n",
    "x_train = x_train.fillna(x_train.mean())"
   ]
  },
  {
   "cell_type": "markdown",
   "id": "8f020c68",
   "metadata": {},
   "source": [
    "## 4. Какой столбец содержит целевую переменную? Запишите его название."
   ]
  },
  {
   "cell_type": "markdown",
   "id": "7c7dd920",
   "metadata": {},
   "source": [
    "   Целевую переменную содержит столбец \"radiant_win\"."
   ]
  },
  {
   "cell_type": "markdown",
   "id": "dd5eaa55",
   "metadata": {},
   "source": [
    "## 5. Забудем, что в выборке есть категориальные признаки, и попробуем обучить градиентный бустинг над деревьями на имеющейся матрице \"объекты-признаки\". Зафиксируйте генератор разбиений для кросс-валидации по 5 блокам (KFold), не забудьте перемешать при этом выборку (shuffle=True), поскольку данные в таблице отсортированы по времени, и без перемешивания можно столкнуться с нежелательными эффектами при оценивании качества. Оцените качество градиентного бустинга (GradientBoostingClassifier) с помощью данной кросс-валидации, попробуйте при этом разное количество деревьев (как минимум протестируйте следующие значения для количества деревьев: 10, 20, 30). Долго ли настраивались классификаторы? Достигнут ли оптимум на испытанных значениях параметра n_estimators, или же качество, скорее всего, продолжит расти при дальнейшем его увеличении?"
   ]
  },
  {
   "cell_type": "code",
   "execution_count": 6,
   "id": "979de743",
   "metadata": {},
   "outputs": [
    {
     "name": "stdout",
     "output_type": "stream",
     "text": [
      "0.6632228421444619 n = 10\n",
      "Time elapsed: 0:00:25.268059\n",
      "0.6819913586442908 n = 20\n",
      "Time elapsed: 0:00:48.870659\n",
      "0.6889354624674262 n = 30\n",
      "Time elapsed: 0:01:09.457550\n",
      "0.6969997559715078 n = 50\n",
      "Time elapsed: 0:01:56.765490\n",
      "0.7061624577083627 n = 100\n",
      "Time elapsed: 0:03:45.654564\n",
      "0.7136044385288242 n = 200\n",
      "Time elapsed: 0:07:22.385188\n"
     ]
    }
   ],
   "source": [
    "# Обозначаем генератор разбиений для кросс-валидации по 5 блокам (n_splits=5) с перемешиванием (shuffle=True)\n",
    "cv = KFold(n_splits=5, shuffle=True, random_state=42)\n",
    "\n",
    "# Создаём цикл, в котором поочередно будет использоваться разное количество деревьев (n_estimators)\n",
    "estimators_list = [10, 20, 30, 50, 100, 200] # Список набора деревьев\n",
    "scores = {} # Создаем словарь для хранения результатов оценки по шаблону \"количество деревьев: метрика\"\n",
    "\n",
    "for estimators in estimators_list: # Обозначение цикла\n",
    "    start_time = datetime.datetime.now() # Время в моменте начала шага цикла\n",
    "    gradient_boost = GBC(n_estimators=estimators, random_state=241, verbose=0) # Обозначение классификатора градиентного бустинга\n",
    "    gradient_boost.fit(x_train, y_train) # Обучение градиентного бустинга\n",
    "    CVS = cross_val_score(gradient_boost, x_train, y_train, cv=cv, scoring=\"roc_auc\", n_jobs=-1).mean() # Вычисление метрики AUC-ROC градиентного бустинга с помощью оценщика cross_val_score\n",
    "    scores[estimators] = CVS # В этом словаре хранятся метрики AUC-ROC\n",
    "    \n",
    "    # Вывод результатов рассчётов оценщика и времени выполнения шага цикла\n",
    "    print(CVS, \"n =\", estimators)\n",
    "    print(f\"Time elapsed: {datetime.datetime.now() - start_time}\")     "
   ]
  },
  {
   "cell_type": "code",
   "execution_count": 7,
   "id": "092062ab",
   "metadata": {},
   "outputs": [
    {
     "data": {
      "text/plain": [
       "Text(0, 0.5, 'Метрика качества классификатора')"
      ]
     },
     "execution_count": 7,
     "metadata": {},
     "output_type": "execute_result"
    },
    {
     "data": {
      "image/png": "[encoded data removed]",
      "text/plain": [
       "<Figure size 1080x432 with 1 Axes>"
      ]
     },
     "metadata": {
      "needs_background": "light"
     },
     "output_type": "display_data"
    }
   ],
   "source": [
    "# Изображение зависимости качества классификатора от количества решающих деревьев\n",
    "gb_graph = plt\n",
    "gb_graph.figure(figsize=(15, 6))\n",
    "gb_graph.plot(scores.keys(), scores.values())\n",
    "gb_graph.title(\"График эффективности классификатора от количества деревьев\", fontsize=20)\n",
    "gb_graph.xlabel(\"Количество деревьев\", fontsize=15)\n",
    "gb_graph.ylabel(\"Метрика качества классификатора\", fontsize=15)"
   ]
  },
  {
   "cell_type": "markdown",
   "id": "b3cf2aea",
   "metadata": {},
   "source": [
    "   При 30 решающих деревьях качество классификатора достигло значения 0.689, длительность обучения и кросс-валидации заняла 1 минуту 5 секунд. Длительность зависит от мощностей процессора. Качество продолжит расти при увеличении количества деревьев, но эффективность касаемо соотношения качества и длительности будет падать. \n",
    "   \n",
    "   Для увеличения скорости вычислений, нужно использовать всю производительность процессора (n_jobs в cross_val_score), можно уменьшить число блоков в генераторе KFold, к примеру, с 3 блоками качество упадет незначительно, в моём случае при 30 решающих деревьях и 3 блоках KFold затраченное время составило: 53 секунды, качество: 0.689, можно заметить, что качество осталось тем же, но время сократилось на 18%. Хочется отметить, что при 200 решающих деревьях разница во времени вычислений составила 1 минуту 48 секунд и качество получилось абсолютно таким же.\n",
    "   \n",
    "   Большое влияние на скорость оказывает глубина max_depth, в моём случае при уменьшении значения со стандартных 3 до 2: время составило 49 секунд и качество 0.682.\n",
    "   \n",
    "   Можно уменьшить размер обучающей выборки, подбирая оптимальное значение."
   ]
  },
  {
   "cell_type": "markdown",
   "id": "9f99025a",
   "metadata": {},
   "source": [
    " # Подход 2. Логистическая регрессия"
   ]
  },
  {
   "cell_type": "markdown",
   "id": "b631013b",
   "metadata": {},
   "source": [
    "## 1. Оцените качество логистической регрессии (sklearn.linear_model.LogisticRegression с L2-регуляризацией) с помощью кросс-валидации по той же схеме, которая использовалась для градиентного бустинга. Подберите при этом лучший параметр регуляризации (C). Какое наилучшее качество у вас получилось? Как оно соотносится с качеством градиентного бустинга? Чем вы можете объяснить эту разницу? Быстрее ли работает логистическая регрессия по сравнению с градиентным бустингом?"
   ]
  },
  {
   "cell_type": "code",
   "execution_count": 8,
   "id": "d73afe0b",
   "metadata": {},
   "outputs": [
    {
     "name": "stdout",
     "output_type": "stream",
     "text": [
      "0.6945715820463141 C = 1e-05\n",
      "Time elapsed: 0:00:01.919614\n",
      "0.7121443888079603 C = 0.0001\n",
      "Time elapsed: 0:00:01.089844\n",
      "0.7168842623152404 C = 0.001\n",
      "Time elapsed: 0:00:01.986656\n",
      "0.7170409699322036 C = 0.01\n",
      "Time elapsed: 0:00:02.510493\n",
      "0.7170198396899601 C = 0.1\n",
      "Time elapsed: 0:00:02.566267\n",
      "0.7170163802572395 C = 1\n",
      "Time elapsed: 0:00:02.823847\n",
      "0.7170161197614487 C = 10\n",
      "Time elapsed: 0:00:02.729152\n",
      "0.7170155435031489 C = 100\n",
      "Time elapsed: 0:00:02.651286\n",
      "0.7170155329137414 C = 1000\n",
      "Time elapsed: 0:00:02.651750\n",
      "0.7170155350326212 C = 10000\n",
      "Time elapsed: 0:00:02.484300\n",
      "0.717015530795108 C = 100000\n",
      "Time elapsed: 0:00:02.498129\n"
     ]
    }
   ],
   "source": [
    "# Подготовка данных к использованию в логистической регрессии\n",
    "\n",
    "# Изменение формата на np.array\n",
    "x_train_values = x_train.values \n",
    "y_train_values = y_train.values.reshape(-1, 1) # Изменение матрицы объектов от вида (1, XXXXX) к виду (XXXXX, 1)\n",
    "\n",
    "# Нормирование данных для линейных классификаторов\n",
    "scaler = StandardScaler()\n",
    "x_train_values = scaler.fit_transform(x_train_values)\n",
    "\n",
    "scores_lr = {}\n",
    "\n",
    "# Обозначаем генератор разбиений для кросс-валидации по 5 блокам (n_splits=5) с перемешиванием (shuffle=True)\n",
    "cv = KFold(n_splits=5, shuffle=True, random_state=42)\n",
    "\n",
    "# Цикл подбора параметра регуляризации C\n",
    "for degree in range(-5, 6):\n",
    "    start_time = datetime.datetime.now() # Время в моменте начала шага цикла\n",
    "    C = 10 ** degree\n",
    "    \n",
    "    LR = LogReg(C=C, random_state=241) # Обозначаем классификатор логистической регрессии\n",
    "    CVS_lr = cross_val_score(estimator=LR, X=x_train_values, y=y_train_values, cv=cv, scoring=\"roc_auc\", n_jobs=-1).mean()\n",
    "    scores_lr[degree] = CVS_lr # В этом словаре хранятся метрики AUC-ROC\n",
    "    \n",
    "    # Вывод результатов рассчётов оценщика и времени выполнения шага цикла\n",
    "    print(CVS_lr, \"C =\", C)\n",
    "    print(f\"Time elapsed: {datetime.datetime.now() - start_time}\")     "
   ]
  },
  {
   "cell_type": "code",
   "execution_count": 9,
   "id": "06fe48cc",
   "metadata": {},
   "outputs": [
    {
     "data": {
      "text/plain": [
       "Text(0, 0.5, 'Метрика качества классификатора')"
      ]
     },
     "execution_count": 9,
     "metadata": {},
     "output_type": "execute_result"
    },
    {
     "data": {
      "image/png": "[encoded data removed]",
      "text/plain": [
       "<Figure size 1080x432 with 1 Axes>"
      ]
     },
     "metadata": {
      "needs_background": "light"
     },
     "output_type": "display_data"
    }
   ],
   "source": [
    "# Изображение зависимости качества классификатора от величины параметра регуляризации\n",
    "lr_graph = plt\n",
    "lr_graph.figure(figsize=(15, 6))\n",
    "lr_graph.plot(scores_lr.keys(), scores_lr.values())\n",
    "lr_graph.title(\"График эффективности классификатора от параметра регуляризации C\", fontsize=20)\n",
    "lr_graph.xlabel(\"Степень параметра регуляризации C\", fontsize=15)\n",
    "lr_graph.ylabel(\"Метрика качества классификатора\", fontsize=15)"
   ]
  },
  {
   "cell_type": "markdown",
   "id": "96e58387",
   "metadata": {},
   "source": [
    "    Наилучшее качество, которое получилось: 0.7170409699322036, оно было достигнуто при значении параметра регуляризации равном 0.01. Качество логистической регрессии выше, чем качество градиентного бустинга с очень большим количеством решающих деревьев. Думаю разница может быть объяснена тем, что для логистической регрессии данные проходят более качественную подготовку.\n",
    "    \n",
    "    Логистическая регрессия работает намного быстрее, чем градиентный бустинг, особенно в моменте достижения максимального качества классификатора."
   ]
  },
  {
   "cell_type": "markdown",
   "id": "a6278aff",
   "metadata": {},
   "source": [
    "## 2. Среди признаков в выборке есть категориальные, которые мы использовали как числовые, что вряд ли является хорошей идеей. Категориальных признаков в этой задаче одиннадцать: lobby_type и r1_hero, r2_hero, ..., r5_hero, d1_hero, d2_hero, ..., d5_hero. Уберите их из выборки, и проведите кросс-валидацию для логистической регрессии на новой выборке с подбором лучшего параметра регуляризации. Изменилось ли качество? Чем вы можете это объяснить?"
   ]
  },
  {
   "cell_type": "code",
   "execution_count": 10,
   "id": "ff3bb8fd",
   "metadata": {},
   "outputs": [
    {
     "name": "stdout",
     "output_type": "stream",
     "text": [
      "0.6945715820463141 C = 1e-05\n",
      "Time elapsed: 0:00:01.058667\n",
      "0.7121443888079603 C = 0.0001\n",
      "Time elapsed: 0:00:01.113194\n",
      "0.7168842623152404 C = 0.001\n",
      "Time elapsed: 0:00:01.758042\n",
      "0.7170409699322036 C = 0.01\n",
      "Time elapsed: 0:00:02.317992\n",
      "0.7170198396899601 C = 0.1\n",
      "Time elapsed: 0:00:02.902128\n",
      "0.7170163802572395 C = 1\n",
      "Time elapsed: 0:00:02.602427\n",
      "0.7170161197614487 C = 10\n",
      "Time elapsed: 0:00:02.556196\n",
      "0.7170155435031489 C = 100\n",
      "Time elapsed: 0:00:02.565360\n",
      "0.7170155329137414 C = 1000\n",
      "Time elapsed: 0:00:02.464990\n",
      "0.7170155350326212 C = 10000\n",
      "Time elapsed: 0:00:02.543886\n",
      "0.717015530795108 C = 100000\n",
      "Time elapsed: 0:00:02.628492\n"
     ]
    }
   ],
   "source": [
    "# Удаляем категориальные признаки из обучающей выборки\n",
    "\n",
    "hero_columns = [\"r1_hero\", \"r2_hero\", \"r3_hero\", \"r4_hero\", \"r5_hero\", \"d1_hero\", \"d2_hero\", \"d3_hero\", \"d4_hero\", \"d5_hero\"]\n",
    "dropping_columns = [\"lobby_type\"] + hero_columns\n",
    "x_train.drop(dropping_columns, axis=1) # Исключаем из выборки столбцы с категориальными признаками\n",
    "\n",
    "\n",
    "# Подготавливаем данные\n",
    "scaler = StandardScaler()\n",
    "\n",
    "x_train_values = x_train.values\n",
    "x_train_values = scaler.fit_transform(x_train_values)\n",
    "\n",
    "# Целевая переменная осталась неизменна, её оставляем нетронутой\n",
    "\n",
    "scores_lr = {}\n",
    "\n",
    "# Цикл подбора параметра регуляризации C\n",
    "for degree in range(-5, 6):\n",
    "    start_time = datetime.datetime.now() # Время в моменте начала шага цикла\n",
    "    C = 10 ** degree\n",
    "    \n",
    "    LR = LogReg(C=C, random_state=241) # Обозначаем классификатор логистической регрессии\n",
    "    CVS_lr = cross_val_score(estimator=LR, X=x_train_values, y=y_train_values, cv=cv, scoring=\"roc_auc\", n_jobs=-1).mean()\n",
    "    scores_lr[degree] = CVS_lr # В этом словаре хранятся метрики AUC-ROC\n",
    "    \n",
    "    # Вывод результатов рассчётов оценщика и времени выполнения шага цикла\n",
    "    print(CVS_lr, \"C =\", C)\n",
    "    print(f\"Time elapsed: {datetime.datetime.now() - start_time}\")     "
   ]
  },
  {
   "cell_type": "code",
   "execution_count": 11,
   "id": "44a359e3",
   "metadata": {},
   "outputs": [
    {
     "data": {
      "text/plain": [
       "Text(0, 0.5, 'Метрика качества классификатора')"
      ]
     },
     "execution_count": 11,
     "metadata": {},
     "output_type": "execute_result"
    },
    {
     "data": {
      "image/png": "[encoded data removed]",
      "text/plain": [
       "<Figure size 1080x432 with 1 Axes>"
      ]
     },
     "metadata": {
      "needs_background": "light"
     },
     "output_type": "display_data"
    }
   ],
   "source": [
    "# Изображение зависимости качества классификатора от от величины параметра регуляризации\n",
    "lr_graph = plt\n",
    "lr_graph.figure(figsize=(15, 6))\n",
    "lr_graph.plot(scores_lr.keys(), scores_lr.values())\n",
    "lr_graph.title(\"График эффективности классификатора от параметра регуляризации C\", fontsize=20)\n",
    "lr_graph.xlabel(\"Степень параметра регуляризации C\", fontsize=15)\n",
    "lr_graph.ylabel(\"Метрика качества классификатора\", fontsize=15)"
   ]
  },
  {
   "cell_type": "markdown",
   "id": "bfdee2ec",
   "metadata": {},
   "source": [
    "    После удаления категориальных признаков качество модели не изменилось. Это можно объяснить тем, что они не влияют на эту модель."
   ]
  },
  {
   "cell_type": "markdown",
   "id": "04af7831",
   "metadata": {},
   "source": [
    "## 3. На предыдущем шаге мы исключили из выборки признаки rM_hero и dM_hero, которые показывают, какие именно герои играли за каждую команду. Это важные признаки — герои имеют разные характеристики, и некоторые из них выигрывают чаще, чем другие. Выясните из данных, сколько различных идентификаторов героев существует в данной игре (вам может пригодиться функция unique или value_counts)."
   ]
  },
  {
   "cell_type": "code",
   "execution_count": 12,
   "id": "7fa3944d",
   "metadata": {},
   "outputs": [
    {
     "name": "stdout",
     "output_type": "stream",
     "text": [
      "Уникальные id героев:\n",
      "\n",
      "[  1   2   3   4   5   6   7   8   9  10  11  12  13  14  15  16  17  18\n",
      "  19  20  21  22  23  25  26  27  28  29  30  31  32  33  34  35  36  37\n",
      "  38  39  40  41  42  43  44  45  46  47  48  49  50  51  52  53  54  55\n",
      "  56  57  58  59  60  61  62  63  64  65  66  67  68  69  70  71  72  73\n",
      "  74  75  76  77  78  79  80  81  82  83  84  85  86  87  88  89  90  91\n",
      "  92  93  94  95  96  97  98  99 100 101 102 103 104 105 106 109 110 112]\n",
      "\n",
      "Число уникальных героев: 108. Общее количество id героев: 112.\n"
     ]
    }
   ],
   "source": [
    "unique_heroes = np.unique(x_train[hero_columns]) # Список уникальных id героев, участвовавших в выборке\n",
    "N = max(unique_heroes) # Наибольший id среди героев\n",
    "print(\"Уникальные id героев:\", unique_heroes, f\"Число уникальных героев: {len(unique_heroes)}. Общее количество id героев: {N}.\", sep='\\n\\n')"
   ]
  },
  {
   "cell_type": "markdown",
   "id": "c84f5705",
   "metadata": {},
   "source": [
    "## 4. Воспользуемся подходом \"мешок слов\" для кодирования информации о героях. Пусть всего в игре имеет N различных героев. Сформируем N признаков, при этом i-й будет равен нулю, если i-й герой не участвовал в матче; единице, если i-й герой играл за команду Radiant; минус единице, если i-й герой играл за команду Dire. Ниже вы можете найти код, который выполняет данное преобразование. Добавьте полученные признаки к числовым, которые вы использовали во втором пункте данного этапа."
   ]
  },
  {
   "cell_type": "code",
   "execution_count": 13,
   "id": "2367a8d1",
   "metadata": {},
   "outputs": [
    {
     "name": "stdout",
     "output_type": "stream",
     "text": [
      "       hero_1  hero_2  hero_3  hero_4  hero_5  hero_6  hero_7  hero_8  hero_9  \\\n",
      "0         0.0     0.0     0.0    -1.0     0.0     0.0     0.0     0.0     0.0   \n",
      "1         0.0     0.0     0.0     0.0     0.0     0.0    -1.0     0.0     0.0   \n",
      "2         0.0     0.0     0.0     1.0     0.0     0.0     0.0     0.0     0.0   \n",
      "3         0.0     0.0     0.0     0.0     0.0     0.0     0.0     0.0     0.0   \n",
      "4         0.0     0.0     0.0     0.0     0.0     0.0     0.0    -1.0     0.0   \n",
      "...       ...     ...     ...     ...     ...     ...     ...     ...     ...   \n",
      "97225     1.0     0.0    -1.0     0.0     0.0     0.0     1.0     0.0     0.0   \n",
      "97226     0.0     0.0     0.0     1.0    -1.0     0.0     0.0     0.0     0.0   \n",
      "97227     0.0     0.0     0.0     0.0     0.0     0.0     0.0     0.0     0.0   \n",
      "97228     0.0     0.0     0.0     0.0     0.0     0.0     0.0     0.0    -1.0   \n",
      "97229     0.0     0.0     0.0     0.0     0.0     0.0     0.0     0.0     0.0   \n",
      "\n",
      "       hero_10  ...  hero_103  hero_104  hero_105  hero_106  hero_107  \\\n",
      "0          0.0  ...       0.0       0.0       1.0       0.0       0.0   \n",
      "1          0.0  ...       0.0       0.0       0.0       0.0       0.0   \n",
      "2          0.0  ...       0.0       0.0       0.0       0.0       0.0   \n",
      "3          0.0  ...       0.0       0.0       0.0       0.0       0.0   \n",
      "4          0.0  ...       0.0       0.0       0.0       0.0       0.0   \n",
      "...        ...  ...       ...       ...       ...       ...       ...   \n",
      "97225      0.0  ...       0.0       0.0       0.0       0.0       0.0   \n",
      "97226      0.0  ...       0.0       0.0       0.0       0.0       0.0   \n",
      "97227      0.0  ...       0.0       0.0       0.0       0.0       0.0   \n",
      "97228      0.0  ...       0.0       0.0       0.0      -1.0       0.0   \n",
      "97229      0.0  ...       0.0       0.0       0.0      -1.0       0.0   \n",
      "\n",
      "       hero_108  hero_109  hero_110  hero_111  hero_112  \n",
      "0           0.0       0.0       0.0       0.0       0.0  \n",
      "1           0.0       0.0       0.0       0.0       0.0  \n",
      "2           0.0       0.0       0.0       0.0       0.0  \n",
      "3           0.0       0.0       0.0       0.0       0.0  \n",
      "4           0.0       0.0       0.0       0.0       0.0  \n",
      "...         ...       ...       ...       ...       ...  \n",
      "97225       0.0       0.0       0.0       0.0       0.0  \n",
      "97226       0.0       0.0       1.0       0.0       0.0  \n",
      "97227       0.0       0.0       0.0       0.0       1.0  \n",
      "97228       0.0       0.0       0.0       0.0       0.0  \n",
      "97229       0.0       0.0       0.0       0.0      -1.0  \n",
      "\n",
      "[97230 rows x 112 columns]\n"
     ]
    }
   ],
   "source": [
    "# Создаем матрицу участия для героев (1 - играл за Radiant, 0 - не играл вообще, -1 - играл за Dire)\n",
    "participate_np = np.zeros((x_train.shape[0], N)) # Сначала создаем матрицу формата numpy.array размером x_train.shape[0] * N\n",
    "#(столбец match_id под номером 0 в x_train, shape - показывает размер столбца), N - общее количество id героев\n",
    "\n",
    "# Заполняем таблицу участия героя в конкретном матче\n",
    "for i, match_id in enumerate(x_train.index):\n",
    "    for p in range(1, 6):\n",
    "        participate_np[i, x_train.loc[match_id, 'r%d_hero' % p] - 1] = 1\n",
    "        participate_np[i, x_train.loc[match_id, 'd%d_hero' % p] - 1] = -1\n",
    "\n",
    "participate_df = pd.DataFrame(participate_np, index=[i for i in range(x_train.shape[0])], columns=[f\"hero_{i}\" for i in range(1, N + 1)])\n",
    "# Создаем таблицу формата pandas.DataFrame, в котором номера строк (index) берем из match_id, номера столбцов (columns) по id героев\n",
    "print(participate_df)"
   ]
  },
  {
   "cell_type": "code",
   "execution_count": 14,
   "id": "4d73b6aa",
   "metadata": {},
   "outputs": [
    {
     "name": "stdout",
     "output_type": "stream",
     "text": [
      "   match_id  lobby_type  r1_hero  r1_level  r1_xp  r1_gold  r1_lh  r1_kills  \\\n",
      "0         0           7       11         5   2098     1489     20         0   \n",
      "1         1           0       42         4   1188     1033      9         0   \n",
      "2         2           7       33         4   1319     1270     22         0   \n",
      "3         3           1       29         4   1779     1056     14         0   \n",
      "4         4           7       13         4   1431     1090      8         1   \n",
      "\n",
      "   r1_deaths  r1_items  ...  hero_103  hero_104  hero_105  hero_106  hero_107  \\\n",
      "0          0         7  ...       0.0       0.0       1.0       0.0       0.0   \n",
      "1          1        12  ...       0.0       0.0       0.0       0.0       0.0   \n",
      "2          0        12  ...       0.0       0.0       0.0       0.0       0.0   \n",
      "3          0         5  ...       0.0       0.0       0.0       0.0       0.0   \n",
      "4          0         8  ...       0.0       0.0       0.0       0.0       0.0   \n",
      "\n",
      "   hero_108  hero_109  hero_110  hero_111  hero_112  \n",
      "0       0.0       0.0       0.0       0.0       0.0  \n",
      "1       0.0       0.0       0.0       0.0       0.0  \n",
      "2       0.0       0.0       0.0       0.0       0.0  \n",
      "3       0.0       0.0       0.0       0.0       0.0  \n",
      "4       0.0       0.0       0.0       0.0       0.0  \n",
      "\n",
      "[5 rows x 214 columns]\n"
     ]
    }
   ],
   "source": [
    "# Добавляем мешок слов к выборке с числовыми признаками (выборка, из которой были удалены категориальные)\n",
    "x_train = pd.concat([x_train, participate_df], axis=1)\n",
    "print(x_train.head(5))"
   ]
  },
  {
   "cell_type": "markdown",
   "id": "8a8ac000",
   "metadata": {},
   "source": [
    "## 5. Проведите кросс-валидацию для логистической регрессии на новой выборке с подбором лучшего параметра регуляризации. Какое получилось качество? Улучшилось ли оно? Чем вы можете это объяснить?"
   ]
  },
  {
   "cell_type": "code",
   "execution_count": 15,
   "id": "47da6d02",
   "metadata": {},
   "outputs": [
    {
     "name": "stdout",
     "output_type": "stream",
     "text": [
      "0.713891554933227 C = 1e-05\n",
      "Time elapsed: 0:00:01.923680\n",
      "0.7430610706247276 C = 0.0001\n",
      "Time elapsed: 0:00:01.898457\n",
      "0.751753850560757 C = 0.001\n",
      "Time elapsed: 0:00:03.440200\n",
      "0.752095003139433 C = 0.01\n",
      "Time elapsed: 0:00:05.366703\n",
      "0.7520699357616246 C = 0.1\n",
      "Time elapsed: 0:00:05.294519\n",
      "0.7520649237419633 C = 1\n",
      "Time elapsed: 0:00:05.166183\n",
      "0.752064116646687 C = 10\n",
      "Time elapsed: 0:00:05.205060\n",
      "0.7520640954639519 C = 100\n",
      "Time elapsed: 0:00:05.224962\n",
      "0.7520640488589028 C = 1000\n",
      "Time elapsed: 0:00:05.162272\n",
      "0.7520640382662198 C = 10000\n",
      "Time elapsed: 0:00:05.464999\n",
      "0.7520640361477755 C = 100000\n",
      "Time elapsed: 0:00:05.365551\n"
     ]
    }
   ],
   "source": [
    "x_train_values = x_train.values\n",
    "x_train_values = scaler.fit_transform(x_train_values)\n",
    "\n",
    "# Целевая переменная осталась неизменна, её оставляем нетронутой\n",
    "\n",
    "scores_lr = {}\n",
    "\n",
    "# Цикл подбора параметра регуляризации C\n",
    "for degree in range(-5, 6):\n",
    "    start_time = datetime.datetime.now() # Время в моменте начала шага цикла\n",
    "    C = 10 ** degree\n",
    "    \n",
    "    LR = LogReg(C=C, random_state=241) # Обозначаем классификатор логистической регрессии\n",
    "    CVS_lr = cross_val_score(estimator=LR, X=x_train_values, y=y_train_values, cv=cv, scoring=\"roc_auc\", n_jobs=-1).mean()\n",
    "    scores_lr[degree] = CVS_lr # В этом словаре хранятся метрики AUC-ROC\n",
    "    \n",
    "    # Вывод результатов рассчётов оценщика и времени выполнения шага цикла\n",
    "    print(CVS_lr, \"C =\", C)\n",
    "    print(f\"Time elapsed: {datetime.datetime.now() - start_time}\")"
   ]
  },
  {
   "cell_type": "code",
   "execution_count": 16,
   "id": "02903013",
   "metadata": {},
   "outputs": [
    {
     "data": {
      "text/plain": [
       "Text(0, 0.5, 'Метрика качества классификатора')"
      ]
     },
     "execution_count": 16,
     "metadata": {},
     "output_type": "execute_result"
    },
    {
     "data": {
      "image/png": "[encoded data removed]",
      "text/plain": [
       "<Figure size 1080x432 with 1 Axes>"
      ]
     },
     "metadata": {
      "needs_background": "light"
     },
     "output_type": "display_data"
    }
   ],
   "source": [
    "# Изображение зависимости качества классификатора от от величины параметра регуляризации\n",
    "lr_graph = plt\n",
    "lr_graph.figure(figsize=(15, 6))\n",
    "lr_graph.plot(scores_lr.keys(), scores_lr.values())\n",
    "lr_graph.title(\"График эффективности классификатора от параметра регуляризации C\", fontsize=20)\n",
    "lr_graph.xlabel(\"Степень параметра регуляризации C\", fontsize=15)\n",
    "lr_graph.ylabel(\"Метрика качества классификатора\", fontsize=15)"
   ]
  },
  {
   "cell_type": "markdown",
   "id": "b9f6dcb9",
   "metadata": {},
   "source": [
    "Качество классификатора получилось 0.752 при параметре регуляризации равном 0.01. Оно ощутимо улучшилось. Это можно объяснить тем, что у модели появилось намного больше признаков, она стала обучаться более тщательно."
   ]
  },
  {
   "cell_type": "markdown",
   "id": "cc4327d4",
   "metadata": {},
   "source": [
    "## 6. Постройте предсказания вероятностей победы команды Radiant для тестовой выборки с помощью лучшей из изученных моделей (лучшей с точки зрения AUC-ROC на кросс-валидации). Убедитесь, что предсказанные вероятности адекватные — находятся на отрезке [0, 1], не совпадают между собой (т.е. что модель не получилась константной)."
   ]
  },
  {
   "cell_type": "code",
   "execution_count": 17,
   "id": "4e3f11bc",
   "metadata": {},
   "outputs": [
    {
     "name": "stdout",
     "output_type": "stream",
     "text": [
      "Признаки с пропущенными значениями: \n",
      "\n",
      "Уникальные id героев:\n",
      "\n",
      "[  1   2   3   4   5   6   7   8   9  10  11  12  13  14  15  16  17  18\n",
      "  19  20  21  22  23  25  26  27  28  29  30  31  32  33  34  35  36  37\n",
      "  38  39  40  41  42  43  44  45  46  47  48  49  50  51  52  53  54  55\n",
      "  56  57  58  59  60  61  62  63  64  65  66  67  68  69  70  71  72  73\n",
      "  74  75  76  77  78  79  80  81  82  83  84  85  86  87  88  89  90  91\n",
      "  92  93  94  95  96  97  98  99 100 101 102 103 104 105 106 109 110 112]\n",
      "\n",
      "Число уникальных героев: 108. Общее количество id героев: 112.\n"
     ]
    }
   ],
   "source": [
    "# Поиск и вывод признаков со значениями NaN:\n",
    "count = x_test.count()\n",
    "print(\"Признаки с пропущенными значениями:\", \"\\n\")\n",
    "count[count < len(x_test)]\n",
    "\n",
    "# Заполнение пропусков тестовой выборки средними значениями\n",
    "x_test = x_test.fillna(x_test.mean())\n",
    "\n",
    "# Категориальные признаки\n",
    "hero_columns = [\"r1_hero\", \"r2_hero\", \"r3_hero\", \"r4_hero\", \"r5_hero\", \"d1_hero\", \"d2_hero\", \"d3_hero\", \"d4_hero\", \"d5_hero\"]\n",
    "dropping_columns = [\"lobby_type\"] + hero_columns\n",
    "\n",
    "unique_heroes = np.unique(x_test[hero_columns]) # Список уникальных id героев, участвовавших в выборке\n",
    "N = max(unique_heroes) # Наибольший id среди героев\n",
    "\n",
    "print(\"Уникальные id героев:\", unique_heroes, f\"Число уникальных героев: {len(unique_heroes)}. Общее количество id героев: {N}.\", sep='\\n\\n')"
   ]
  },
  {
   "cell_type": "code",
   "execution_count": 18,
   "id": "50a75509",
   "metadata": {},
   "outputs": [
    {
     "name": "stdout",
     "output_type": "stream",
     "text": [
      "Нулевая матрица x_test.shape[0] * N\n",
      "\n",
      "[[0. 0. 0. ... 0. 0. 0.]\n",
      " [0. 0. 0. ... 0. 0. 0.]\n",
      " [0. 0. 0. ... 0. 0. 0.]\n",
      " ...\n",
      " [0. 0. 0. ... 0. 0. 0.]\n",
      " [0. 0. 0. ... 0. 0. 0.]\n",
      " [0. 0. 0. ... 0. 0. 0.]]\n",
      "Готовый мешок слов по участвующим в матчах героям\n",
      "\n",
      "   hero_1  hero_2  hero_3  hero_4  hero_5  hero_6  hero_7  hero_8  hero_9  \\\n",
      "0     0.0     0.0     0.0     0.0     0.0     0.0     0.0     0.0     0.0   \n",
      "1     0.0     0.0     0.0     0.0    -1.0     1.0     0.0     0.0     0.0   \n",
      "2     0.0     0.0     0.0     0.0     0.0     0.0     0.0     0.0     0.0   \n",
      "3     0.0     1.0     0.0     0.0     0.0     0.0     0.0     0.0     0.0   \n",
      "4     0.0     0.0    -1.0     0.0     0.0     0.0     0.0     0.0     0.0   \n",
      "\n",
      "   hero_10  ...  hero_103  hero_104  hero_105  hero_106  hero_107  hero_108  \\\n",
      "0      0.0  ...       0.0       0.0       0.0       0.0       0.0       0.0   \n",
      "1      0.0  ...       0.0       0.0       0.0       0.0       0.0       0.0   \n",
      "2     -1.0  ...       0.0       0.0       0.0       0.0       0.0       0.0   \n",
      "3      0.0  ...       0.0       0.0       0.0       0.0       0.0       0.0   \n",
      "4      0.0  ...       0.0       0.0       0.0       0.0       0.0       0.0   \n",
      "\n",
      "   hero_109  hero_110  hero_111  hero_112  \n",
      "0       0.0       0.0       0.0       0.0  \n",
      "1       0.0       0.0       0.0       0.0  \n",
      "2       0.0       0.0       0.0       1.0  \n",
      "3       0.0      -1.0       0.0       0.0  \n",
      "4       0.0       0.0       0.0       0.0  \n",
      "\n",
      "[5 rows x 112 columns]\n"
     ]
    }
   ],
   "source": [
    "# Создаем матрицу участия для героев (1 - играл за Radiant, 0 - не играл вообще, -1 - играл за Dire)\n",
    "participate_np = np.zeros((x_test.shape[0], N)) # Сначала создаем матрицу формата numpy.array размером x_train.shape[0] * N\n",
    "#(столбец match_id под номером 0 в x_train, shape - показывает размер столбца), N - общее количество id героев\n",
    "print(\"Нулевая матрица x_test.shape[0] * N\", participate_np, sep=\"\\n\\n\")\n",
    "# Заполняем таблицу участия героя в конкретном матче\n",
    "for i, match_id in enumerate(x_test.index):\n",
    "    for p in range(1, 6):\n",
    "        participate_np[i, x_test.loc[match_id, 'r%d_hero' % p] - 1] = 1\n",
    "        participate_np[i, x_test.loc[match_id, 'd%d_hero' % p] - 1] = -1\n",
    "\n",
    "participate_df = pd.DataFrame(participate_np, index=[i for i in range(x_test.shape[0])], columns=[f\"hero_{i}\" for i in range(1, N + 1)])\n",
    "# Создаем таблицу формата pandas.DataFrame, в котором номера строк (index) берем из match_id, номера столбцов (columns) по id героев\n",
    "print(\"Готовый мешок слов по участвующим в матчах героям\", participate_df.head(5), sep=\"\\n\\n\")"
   ]
  },
  {
   "cell_type": "code",
   "execution_count": 19,
   "id": "95b5472d",
   "metadata": {},
   "outputs": [
    {
     "name": "stdout",
     "output_type": "stream",
     "text": [
      "Готовая тестовая выборка с мешком слов по героям\n",
      "\n",
      "   match_id  lobby_type  r1_hero  r1_level  r1_xp  r1_gold  r1_lh  r1_kills  \\\n",
      "0         6           0       93         4   1103     1089      8         0   \n",
      "1         7           1       20         2    556      570      1         0   \n",
      "2        10           1      112         2    751      808      1         0   \n",
      "3        13           1       27         3    708      903      1         1   \n",
      "4        16           1       39         4   1259      661      4         0   \n",
      "\n",
      "   r1_deaths  r1_items  ...  hero_103  hero_104  hero_105  hero_106  hero_107  \\\n",
      "0          1         9  ...       0.0       0.0       0.0       0.0       0.0   \n",
      "1          0         9  ...       0.0       0.0       0.0       0.0       0.0   \n",
      "2          0        13  ...       0.0       0.0       0.0       0.0       0.0   \n",
      "3          1        11  ...       0.0       0.0       0.0       0.0       0.0   \n",
      "4          0         9  ...       0.0       0.0       0.0       0.0       0.0   \n",
      "\n",
      "   hero_108  hero_109  hero_110  hero_111  hero_112  \n",
      "0       0.0       0.0       0.0       0.0       0.0  \n",
      "1       0.0       0.0       0.0       0.0       0.0  \n",
      "2       0.0       0.0       0.0       0.0       1.0  \n",
      "3       0.0       0.0      -1.0       0.0       0.0  \n",
      "4       0.0       0.0       0.0       0.0       0.0  \n",
      "\n",
      "[5 rows x 214 columns]\n"
     ]
    }
   ],
   "source": [
    "# Совмещаем мешок слов с тестовой выборкой\n",
    "x_test = pd.concat([x_test, participate_df], axis=1)\n",
    "print(\"Готовая тестовая выборка с мешком слов по героям\", x_test.head(5), sep=\"\\n\\n\")"
   ]
  },
  {
   "cell_type": "code",
   "execution_count": 47,
   "id": "0ad11156",
   "metadata": {},
   "outputs": [],
   "source": [
    "# Нормализация признаков тестовой выборки\n",
    "scaler = StandardScaler() # Объявление функции StandardScaler\n",
    "x_test_values = x_test.values # Приведение pd.DataFrame к формату np.array\n",
    "x_train_values = x_train.values # Приведение pd.DataFrame к формату np.array\n",
    "y_train_values = y_train.values # Приведение pd.DataFrame к формату np.array\n",
    "x_test_values = scaler.fit_transform(x_test_values) # Применение нормализации к тестовой выборке\n",
    "x_train_values = scaler.fit_transform(x_train_values) # Применение нормализации к обучающей выборке"
   ]
  },
  {
   "cell_type": "code",
   "execution_count": 50,
   "id": "ad321d8a",
   "metadata": {},
   "outputs": [
    {
     "data": {
      "text/plain": [
       "LogisticRegression(C=0.01, random_state=241)"
      ]
     },
     "execution_count": 50,
     "metadata": {},
     "output_type": "execute_result"
    }
   ],
   "source": [
    "# Объявление модели логистической регрессии\n",
    "model = LogReg(C=0.01, random_state=241)\n",
    "# Обучение логистической регрессии\n",
    "model.fit(x_train_values, y_train_values)"
   ]
  },
  {
   "cell_type": "code",
   "execution_count": 51,
   "id": "b696aca0",
   "metadata": {},
   "outputs": [
    {
     "name": "stdout",
     "output_type": "stream",
     "text": [
      "0        0.848813\n",
      "1        0.747383\n",
      "2        0.211569\n",
      "3        0.851292\n",
      "4        0.240609\n",
      "           ...   \n",
      "17172    0.736568\n",
      "17173    0.638293\n",
      "17174    0.245840\n",
      "17175    0.609099\n",
      "17176    0.445439\n",
      "Length: 17177, dtype: float64\n"
     ]
    }
   ],
   "source": [
    "# Предсказанные вероятности победы команды Radiant по тестовым данным\n",
    "preds = pd.Series(model.predict_proba(x_test_values)[:, 1])\n",
    "print(preds)"
   ]
  },
  {
   "cell_type": "code",
   "execution_count": 52,
   "id": "b8eb2152",
   "metadata": {},
   "outputs": [
    {
     "data": {
      "text/plain": [
       "count    17177.000000\n",
       "mean         0.518491\n",
       "std          0.220639\n",
       "min          0.008946\n",
       "25%          0.347338\n",
       "50%          0.524293\n",
       "75%          0.691680\n",
       "max          0.996369\n",
       "dtype: float64"
      ]
     },
     "execution_count": 52,
     "metadata": {},
     "output_type": "execute_result"
    }
   ],
   "source": [
    "# Статистические данные предсказанных вероятностей\n",
    "preds.describe()"
   ]
  },
  {
   "cell_type": "markdown",
   "id": "865bae0d",
   "metadata": {},
   "source": [
    "Минимальная вероятность получилась 0.0089, а максимальная 0.9964, предсказанные вероятности находятся на отрезке [0, 1] и не совпадают друг с другом, следовательно модель не получилась константной"
   ]
  },
  {
   "cell_type": "code",
   "execution_count": 56,
   "id": "63fd2d82",
   "metadata": {},
   "outputs": [
    {
     "data": {
      "text/plain": [
       "<AxesSubplot:ylabel='Frequency'>"
      ]
     },
     "execution_count": 56,
     "metadata": {},
     "output_type": "execute_result"
    },
    {
     "data": {
      "image/png": "[encoded data removed]",
      "text/plain": [
       "<Figure size 1080x432 with 1 Axes>"
      ]
     },
     "metadata": {
      "needs_background": "light"
     },
     "output_type": "display_data"
    }
   ],
   "source": [
    "# График частоты предсказанных вероятностей\n",
    "preds.plot.hist(bins=50, figsize=(15, 6))"
   ]
  },
  {
   "cell_type": "code",
   "execution_count": null,
   "id": "645a6834",
   "metadata": {},
   "outputs": [],
   "source": []
  }
 ],
 "metadata": {
  "kernelspec": {
   "display_name": "Python 3",
   "language": "python",
   "name": "python3"
  },
  "language_info": {
   "codemirror_mode": {
    "name": "ipython",
    "version": 3
   },
   "file_extension": ".py",
   "mimetype": "text/x-python",
   "name": "python",
   "nbconvert_exporter": "python",
   "pygments_lexer": "ipython3",
   "version": "3.8.8"
  }
 },
 "nbformat": 4,
 "nbformat_minor": 5
}
